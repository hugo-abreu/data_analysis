{
 "cells": [
  {
   "cell_type": "markdown",
   "metadata": {},
   "source": [
    "# Projet Analyse de Données\n",
    "\n",
    "## Gini Clustering\n",
    "\n",
    "- Hugo Abreu"
   ]
  },
  {
   "cell_type": "markdown",
   "metadata": {},
   "source": [
    "## Imports"
   ]
  },
  {
   "cell_type": "code",
   "execution_count": 1,
   "metadata": {
    "collapsed": false,
    "jupyter": {
     "outputs_hidden": false
    }
   },
   "outputs": [],
   "source": [
    "# General Libraries\n",
    "import numpy as np\n",
    "import matplotlib.pyplot as plt\n",
    "import requests\n",
    "import math\n",
    "import random\n",
    "import time\n",
    "import pickle\n",
    "\n",
    "# Visualisation libraries\n",
    "from mpl_toolkits.mplot3d import Axes3D \n",
    "from matplotlib import animation\n",
    "from matplotlib.animation import FuncAnimation, PillowWriter\n",
    "from IPython.display import HTML\n",
    "\n",
    "%matplotlib inline "
   ]
  },
  {
   "cell_type": "markdown",
   "metadata": {},
   "source": [
    "## Create the point distribution"
   ]
  },
  {
   "cell_type": "markdown",
   "metadata": {},
   "source": [
    "Let's build a function to create the characteristics of the wanted distribution: we want to be able to specify the dimension, the number of modes (distinct zones to be classified) and the parameters of the gaussian distribution determining the dispertion of points in each mode \"zone\".\n",
    "\n",
    "- This function shows a prompt where you can specify the characteristics of the distribution"
   ]
  },
  {
   "cell_type": "code",
   "execution_count": 2,
   "metadata": {
    "collapsed": false,
    "jupyter": {
     "outputs_hidden": false
    }
   },
   "outputs": [],
   "source": [
    "def distribution():\n",
    "    dim = int(input(\"data dimension: \"))\n",
    "    md = int(input(\"number of modes:\"))\n",
    "\n",
    "    distribution = []\n",
    "\n",
    "    # for each mode\n",
    "    for i in range(md):\n",
    "        mu = []\n",
    "        sigma = []\n",
    "        print(\"\\nfor mode {}:\".format(i))\n",
    "\n",
    "        # for each dimention ask mu\n",
    "        for j in range(dim):\n",
    "            mu.append(float(input(\"mu for dim {}:\".format(j))))\n",
    "\n",
    "        # for each dimention ask sigma\n",
    "        for k in range(dim):\n",
    "            sigma.append(float(input(\"sigma for dim {}:\".format(k))))\n",
    "\n",
    "        # ask number of points for the current mode\n",
    "        numpts = int(input(\"number of points:\"))\n",
    "        distribution.append([mu,sigma,numpts])\n",
    "\n",
    "    return distribution, dim"
   ]
  },
  {
   "cell_type": "markdown",
   "metadata": {},
   "source": [
    "We also need a function to output randomized points according to the distribution specifications. \n",
    "\n",
    "We are going to use a function to output randomized point coordinates in each dimention according to a gaussian distribution (`gauss()`).\n",
    "\n",
    "Then, we can use a function `rddata()` that inputs the distribution specifications given by `distribution()` and uses `gauss()` to create the point dictionnary.\n",
    "\n",
    "  I chose a dictionnary since you can easily access it by the coordinates of the points (the key), and you can easily remove entres. Contrary to a ndarray, the first data structure I chose, you can have a different amount of points in each mode."
   ]
  },
  {
   "cell_type": "code",
   "execution_count": 3,
   "metadata": {
    "collapsed": false,
    "jupyter": {
     "outputs_hidden": false
    }
   },
   "outputs": [],
   "source": [
    "def gauss(mu,sigma,dim):\n",
    "    res = ()\n",
    "\n",
    "    # for each dimention, create a point coordinate given gaussian distribution parameters\n",
    "    for i in range(dim):\n",
    "        res = res + (random.gauss(mu[i], sigma[i]),)\n",
    "    return res"
   ]
  },
  {
   "cell_type": "code",
   "execution_count": 4,
   "metadata": {
    "collapsed": false,
    "jupyter": {
     "outputs_hidden": false
    }
   },
   "outputs": [],
   "source": [
    "def rddata(distributions,dim):\n",
    "    pts = {}\n",
    "    modes = []\n",
    "\n",
    "    # for each entry in distribution, create a mode specific point distribution\n",
    "    for dist, params in enumerate(distributions):\n",
    "        # for each mode, create points\n",
    "        for nbpoints in range(params[2]):\n",
    "            pt = gauss(params[0],params[1],dim)\n",
    "            pts[pt]=dist\n",
    "        modes.append(dist)\n",
    "\n",
    "    # maximum coordinates in all dimentions (to be able to correctly plot)\n",
    "    scale = []\n",
    "    for d in range(dim):\n",
    "        init = next(iter(pts))[d]\n",
    "        scale.append([init,init])\n",
    "\n",
    "        for i in pts:\n",
    "            if i[d] < scale[d][0]:\n",
    "                scale[d][0] = i[d]\n",
    "            if i[d] > scale[d][1]:\n",
    "                scale[d][1] = i[d]\n",
    "\n",
    "    return pts, modes, scale"
   ]
  },
  {
   "cell_type": "markdown",
   "metadata": {},
   "source": [
    "If we want to manually input points, they should be in the following format:"
   ]
  },
  {
   "cell_type": "code",
   "execution_count": 5,
   "metadata": {
    "collapsed": false,
    "jupyter": {
     "outputs_hidden": false
    }
   },
   "outputs": [],
   "source": [
    "example_dict = {('point coordinates, separated by comma'): 'mode'}"
   ]
  },
  {
   "cell_type": "code",
   "execution_count": 6,
   "metadata": {
    "collapsed": false,
    "jupyter": {
     "outputs_hidden": false
    }
   },
   "outputs": [
    {
     "data": {
      "text/plain": [
       "{'point coordinates, separated by comma': 'mode'}"
      ]
     },
     "execution_count": 6,
     "metadata": {},
     "output_type": "execute_result"
    }
   ],
   "source": [
    "example_dict"
   ]
  },
  {
   "cell_type": "markdown",
   "metadata": {},
   "source": [
    "### Example:\n",
    "\n",
    "lets create a data distribution and generate a dictionnary of random points correponding to that distribution."
   ]
  },
  {
   "cell_type": "code",
   "execution_count": 7,
   "metadata": {
    "collapsed": false,
    "jupyter": {
     "outputs_hidden": false
    }
   },
   "outputs": [
    {
     "name": "stdin",
     "output_type": "stream",
     "text": [
      "data dimension:  3\n",
      "number of modes: 5\n"
     ]
    },
    {
     "name": "stdout",
     "output_type": "stream",
     "text": [
      "\n",
      "for mode 0:\n"
     ]
    },
    {
     "name": "stdin",
     "output_type": "stream",
     "text": [
      "mu for dim 0: -1\n",
      "mu for dim 1: -1\n",
      "mu for dim 2: -1\n",
      "sigma for dim 0: 0.5\n",
      "sigma for dim 1: 0.5\n",
      "sigma for dim 2: 0.5\n",
      "number of points: 20\n"
     ]
    },
    {
     "name": "stdout",
     "output_type": "stream",
     "text": [
      "\n",
      "for mode 1:\n"
     ]
    },
    {
     "name": "stdin",
     "output_type": "stream",
     "text": [
      "mu for dim 0: -1\n",
      "mu for dim 1: -2\n",
      "mu for dim 2: -2\n",
      "sigma for dim 0: 0.5\n",
      "sigma for dim 1: 0.5\n",
      "sigma for dim 2: 0.5\n",
      "number of points: 25\n"
     ]
    },
    {
     "name": "stdout",
     "output_type": "stream",
     "text": [
      "\n",
      "for mode 2:\n"
     ]
    },
    {
     "name": "stdin",
     "output_type": "stream",
     "text": [
      "mu for dim 0: -3\n",
      "mu for dim 1: -1\n",
      "mu for dim 2: -5\n",
      "sigma for dim 0: 0.5\n",
      "sigma for dim 1: 0.5\n",
      "sigma for dim 2: 0.5\n",
      "number of points: 24\n"
     ]
    },
    {
     "name": "stdout",
     "output_type": "stream",
     "text": [
      "\n",
      "for mode 3:\n"
     ]
    },
    {
     "name": "stdin",
     "output_type": "stream",
     "text": [
      "mu for dim 0: 2\n",
      "mu for dim 1: 0\n",
      "mu for dim 2: 4\n",
      "sigma for dim 0: 0.5\n",
      "sigma for dim 1: 0.5\n",
      "sigma for dim 2: 0.5\n",
      "number of points: 21\n"
     ]
    },
    {
     "name": "stdout",
     "output_type": "stream",
     "text": [
      "\n",
      "for mode 4:\n"
     ]
    },
    {
     "name": "stdin",
     "output_type": "stream",
     "text": [
      "mu for dim 0: 0\n",
      "mu for dim 1: 5\n",
      "mu for dim 2: 5\n",
      "sigma for dim 0: 0.5\n",
      "sigma for dim 1: 0.5\n",
      "sigma for dim 2: 0.5\n",
      "number of points: 27\n"
     ]
    }
   ],
   "source": [
    "dist,dim = distribution()"
   ]
  },
  {
   "cell_type": "markdown",
   "metadata": {},
   "source": [
    "let's save dist to a file so that the rest of the program can be tested without manually inputing distribution parameters"
   ]
  },
  {
   "cell_type": "code",
   "execution_count": 11,
   "metadata": {
    "collapsed": false,
    "jupyter": {
     "outputs_hidden": false
    }
   },
   "outputs": [],
   "source": [
    "with open(\"distribution.txt\", \"wb\") as distribution_file:\n",
    "    pickle.dump(dist, distribution_file)"
   ]
  },
  {
   "cell_type": "code",
   "execution_count": 7,
   "metadata": {
    "collapsed": false,
    "jupyter": {
     "outputs_hidden": false
    }
   },
   "outputs": [],
   "source": [
    "with open(\"distribution.txt\", \"rb\") as distribution_file:\n",
    "    distribution_from_file = pickle.load(distribution_file)"
   ]
  },
  {
   "cell_type": "code",
   "execution_count": 8,
   "metadata": {
    "collapsed": false,
    "jupyter": {
     "outputs_hidden": false
    }
   },
   "outputs": [
    {
     "data": {
      "text/plain": [
       "[[[-1.0, -1.0, -1.0], [0.5, 0.5, 0.5], 20],\n",
       " [[-1.0, -2.0, -2.0], [0.5, 0.5, 0.5], 25],\n",
       " [[-3.0, -1.0, -5.0], [0.5, 0.5, 0.5], 24],\n",
       " [[2.0, 0.0, 4.0], [0.5, 0.5, 0.5], 21],\n",
       " [[0.0, 5.0, 5.0], [0.5, 0.5, 0.5], 27]]"
      ]
     },
     "execution_count": 8,
     "metadata": {},
     "output_type": "execute_result"
    }
   ],
   "source": [
    "distribution_from_file"
   ]
  },
  {
   "cell_type": "markdown",
   "metadata": {},
   "source": [
    "with this distribution file, you need to use dim equal to 3:"
   ]
  },
  {
   "cell_type": "code",
   "execution_count": 9,
   "metadata": {
    "collapsed": false,
    "jupyter": {
     "outputs_hidden": false
    }
   },
   "outputs": [],
   "source": [
    "dim = 3"
   ]
  },
  {
   "cell_type": "code",
   "execution_count": 12,
   "metadata": {},
   "outputs": [],
   "source": [
    "dist = distribution_from_file"
   ]
  },
  {
   "cell_type": "code",
   "execution_count": 13,
   "metadata": {
    "collapsed": false,
    "jupyter": {
     "outputs_hidden": false
    }
   },
   "outputs": [],
   "source": [
    "pts, modes, scale = rddata(dist,dim)"
   ]
  },
  {
   "cell_type": "markdown",
   "metadata": {},
   "source": [
    "Let's build a function to visualize these points: in this case, they are in 3 dimensions. I will build functions to visualize points in 2 and 3 dimensions, but all the other functions should work in every dimension."
   ]
  },
  {
   "cell_type": "markdown",
   "metadata": {},
   "source": [
    "## Display "
   ]
  },
  {
   "cell_type": "markdown",
   "metadata": {},
   "source": [
    "For 2d points, it is easy (the use of a dictionnary makes it simple to seperate colors according to modes)"
   ]
  },
  {
   "cell_type": "code",
   "execution_count": 14,
   "metadata": {
    "collapsed": false,
    "jupyter": {
     "outputs_hidden": false
    }
   },
   "outputs": [],
   "source": [
    "def display2dpts(pts,modes):\n",
    "    for x in modes:\n",
    "        var = [coord for coord,mode in pts.items() if mode == x]\n",
    "        plt.scatter(*zip(*var),edgecolors='black')"
   ]
  },
  {
   "cell_type": "markdown",
   "metadata": {},
   "source": [
    "For 3d points, it is more difficult to have a clear view of the point distribution (since they can overlap). Let's build a function that outputs an animation of the plot, by stitching together plots with different viewing angles.\n",
    "\n",
    "This function will also display partitions (useful for later in the project), but if we don't input a `partitions` parameter, it will only display the points.\n",
    "\n",
    "- note: this function takes quite a lot of time run (30 seconds per animation approximately) since I manually render each frame"
   ]
  },
  {
   "cell_type": "code",
   "execution_count": 15,
   "metadata": {
    "collapsed": false,
    "jupyter": {
     "outputs_hidden": false
    }
   },
   "outputs": [],
   "source": [
    "def display3dpts(pts,modes,scale, partitions_raw = False):\n",
    "    ''' Display the point distribution in 3D'''\n",
    "    fig = plt.figure()\n",
    "    figct = 1\n",
    "\n",
    "    ax = Axes3D(fig)\n",
    "\n",
    "    # set borders\n",
    "    ax.set_xlim3d(math.floor(scale[0][0]),math.ceil(scale[0][1]))\n",
    "    ax.set_ylim3d(math.floor(scale[1][0]),math.ceil(scale[1][1]))\n",
    "    ax.set_zlim3d(math.floor(scale[2][0]),math.ceil(scale[2][1]))\n",
    "\n",
    "\n",
    "    def init():                 # build plot for each frame\n",
    "        for x in modes:\n",
    "            var = [coord for coord,mode in pts.items() if mode == x]\n",
    "            if var != []:\n",
    "                ax.scatter(*zip(*var),edgecolors='black')\n",
    "        return fig,\n",
    "\n",
    "\n",
    "    def animate(i):             # define view point function\n",
    "        ax.view_init(elev=10., azim=i)\n",
    "        return fig,\n",
    "\n",
    "\n",
    "    # create animation\n",
    "    anim = animation.FuncAnimation(fig, animate, init_func=init,\n",
    "                                   frames=360, interval=20, blit=True)\n",
    "\n",
    "    # save animation\n",
    "    anim.save('fig%s.gif' % figct, writer=PillowWriter(fps=30))\n",
    "    plt.close(fig)\n",
    "\n",
    "    # display animation\n",
    "    display(HTML('<img src=\"./fig%s.gif\">' % figct))\n",
    "\n",
    "\n",
    "    ''' Partition display (thresholds of the binary tree) '''\n",
    "    if partitions_raw:\n",
    "        partitions = []\n",
    "\n",
    "        # for each recorded partition\n",
    "        for t,td in partitions_raw:\n",
    "            partitions.append([t,td])  # draw the plot with one more\n",
    "                                       # partition than before\n",
    "            fig = plt.figure()\n",
    "            figct += 1\n",
    "\n",
    "            ax = Axes3D(fig)\n",
    "\n",
    "            # set borders\n",
    "            ax.set_xlim3d(math.floor(scale[0][0]),math.ceil(scale[0][1]))\n",
    "            ax.set_ylim3d(math.floor(scale[1][0]),math.ceil(scale[1][1]))\n",
    "            ax.set_zlim3d(math.floor(scale[2][0]),math.ceil(scale[2][1]))\n",
    "\n",
    "            def init():         # build plot for each frame\n",
    "                # add point distribution\n",
    "                for x in modes:\n",
    "                    var = [coord for coord,mode in pts.items() if mode == x]\n",
    "                    if var != []:\n",
    "                        ax.scatter(*zip(*var),edgecolors='black')\n",
    "\n",
    "                # add threshold representations\n",
    "                for threshold, threshold_dim in partitions:\n",
    "                    if threshold_dim == 0:  # thresholds for dim 0\n",
    "                        y = np.arange(scale[1][0],scale[1][1],0.08)\n",
    "                        z = np.arange(scale[2][0],scale[2][1],0.08)\n",
    "                        Y,Z = np.meshgrid(y,z)\n",
    "\n",
    "                        X = Y*0 + threshold\n",
    "\n",
    "                        ax.plot_wireframe(X, Y, Z, rstride=10, cstride=10,color = 'coral', alpha=0.75)\n",
    "\n",
    "                    elif threshold_dim == 1:  # thresholds for dim 1\n",
    "                        x = np.arange(scale[0][0],scale[0][1],0.08)\n",
    "                        z = np.arange(scale[2][0],scale[2][1],0.08)\n",
    "                        X,Z = np.meshgrid(x,z)\n",
    "\n",
    "                        Y = X*0 + threshold\n",
    "\n",
    "                        ax.plot_wireframe(X, Y, Z, rstride=10, cstride=10, color = 'yellowgreen', alpha=0.75)\n",
    "\n",
    "                    elif threshold_dim == 2:  # threshold for dim 3\n",
    "                        x = np.arange(scale[0][0],scale[0][1],0.08)\n",
    "                        y = np.arange(scale[1][0],scale[1][1],0.08)\n",
    "                        X,Y = np.meshgrid(x,y)\n",
    "\n",
    "                        Z = Y*0 + threshold\n",
    "\n",
    "                        ax.plot_wireframe(X, Y, Z, rstride=10, cstride=10, color = 'teal', alpha=0.75)\n",
    "\n",
    "                return fig,\n",
    "\n",
    "            # animate plot\n",
    "            anim = animation.FuncAnimation(fig, animate, init_func=init,\n",
    "                                           frames=360, interval=20, blit=True)\n",
    "\n",
    "            anim.save('fig%s.gif' % figct, writer=PillowWriter(fps=30))\n",
    "            plt.close(fig)\n",
    "\n",
    "            # display animation\n",
    "            display(HTML('<img src=\"./fig%s.gif\">' % figct))"
   ]
  },
  {
   "cell_type": "code",
   "execution_count": 16,
   "metadata": {
    "collapsed": false,
    "jupyter": {
     "outputs_hidden": false
    }
   },
   "outputs": [
    {
     "data": {
      "text/html": [
       "<img src=\"./fig1.gif\">"
      ],
      "text/plain": [
       "<IPython.core.display.HTML object>"
      ]
     },
     "metadata": {},
     "output_type": "display_data"
    }
   ],
   "source": [
    "display3dpts(pts,modes,scale)"
   ]
  },
  {
   "cell_type": "markdown",
   "metadata": {},
   "source": [
    "## Gini: find a binary cut minimizing total gini"
   ]
  },
  {
   "cell_type": "markdown",
   "metadata": {},
   "source": [
    "In each step, we want to create "
   ]
  },
  {
   "cell_type": "code",
   "execution_count": 17,
   "metadata": {
    "collapsed": false,
    "jupyter": {
     "outputs_hidden": false
    }
   },
   "outputs": [],
   "source": [
    "def gini(pts,modes):\n",
    "    '''Compute gini for a given point distribution'''\n",
    "\n",
    "    elements = []\n",
    "\n",
    "    # compute how many elements of each mode is in pts\n",
    "    for m in modes:\n",
    "        elements.append(len([coord for coord,mode in pts.items() if mode == m]))\n",
    "\n",
    "    # intermediate computations\n",
    "    total = sum(elements)\n",
    "    squares = [(x**2)/(total**2) for x in elements]\n",
    "\n",
    "    # gini\n",
    "    gini = 1 - np.sum(squares)\n",
    "\n",
    "    return gini"
   ]
  },
  {
   "cell_type": "code",
   "execution_count": 18,
   "metadata": {
    "collapsed": false,
    "jupyter": {
     "outputs_hidden": false
    }
   },
   "outputs": [],
   "source": [
    "def cut(pts,line):\n",
    "    '''split a point distribution along a given line (threshold, dimention)'''\n",
    "\n",
    "    threshold, dimention = line\n",
    "    pts1,pts2 = {},{}\n",
    "\n",
    "    # for each point\n",
    "    for d in pts:\n",
    "        # if point[dim] smaller than threshold, to the left\n",
    "        if d[dimention]<=threshold:\n",
    "            pts1[d] = pts[d]\n",
    "        else:                   # else -> to the right\n",
    "            pts2[d] = pts[d]\n",
    "    return pts1,pts2"
   ]
  },
  {
   "cell_type": "code",
   "execution_count": 19,
   "metadata": {
    "collapsed": false,
    "jupyter": {
     "outputs_hidden": false
    }
   },
   "outputs": [],
   "source": [
    "def optimize(pts,modes,dim,niter=150):\n",
    "    '''optimize next cut'''\n",
    "\n",
    "    # gini for given points\n",
    "    ginipts = gini(pts,modes)\n",
    "\n",
    "    # for a given number of iterations\n",
    "    for iteration in range(niter):\n",
    "        threshold_dim = np.random.randint(dim)  # pick a random dimention\n",
    "\n",
    "        init = next(iter(pts))[threshold_dim]  # pick the first point\n",
    "        threshold_scale = [init,init]          # initialize the scale\n",
    "\n",
    "        # find the smallest and biggest point in the given dimension\n",
    "        for i in pts:\n",
    "            if i[threshold_dim] < threshold_scale[0]:\n",
    "                threshold_scale[0] = i[threshold_dim]\n",
    "            if i[threshold_dim] > threshold_scale[1]:\n",
    "                threshold_scale[1] = i[threshold_dim]\n",
    "\n",
    "        # choose the threshold according the scale (not to have meaningless thresholds)\n",
    "        threshold = random.uniform(threshold_scale[0],threshold_scale[1])\n",
    "\n",
    "        # build the line\n",
    "        line = [threshold,threshold_dim]\n",
    "\n",
    "        # split pts across the line\n",
    "        pts1, pts2 = cut(pts,line)\n",
    "\n",
    "        # compute gini\n",
    "        ginipts1_norm = (len(pts1)/len(pts))*gini(pts1,modes)\n",
    "        ginipts2_norm = (len(pts2)/len(pts))*gini(pts2,modes)\n",
    "\n",
    "        # ginimin: value to maximize\n",
    "        ginimin = ginipts - (ginipts1_norm + ginipts2_norm)\n",
    "\n",
    "        if iteration:\n",
    "            # test if previous ginimin smaller than current ginimin\n",
    "            if ginimin > ginimin_opt:\n",
    "                # if yes, keep it\n",
    "                ginimin_opt, pts1_opt, pts2_opt, line_opt = ginimin, pts1, pts2, line\n",
    "        else:\n",
    "            # initialize\n",
    "            ginimin_opt, pts1_opt, pts2_opt, line_opt = ginimin, pts1, pts2, line\n",
    "\n",
    "    return ginimin_opt, pts1_opt, pts2_opt, line_opt"
   ]
  },
  {
   "cell_type": "markdown",
   "metadata": {},
   "source": [
    "## Decision Tree"
   ]
  },
  {
   "cell_type": "markdown",
   "metadata": {},
   "source": [
    "We now want to do it recursively for each node:\n",
    "\n",
    "Let's create a `Node` class (python standard for manipulating binary trees). Each node will represent a set of points: as such, it will have the following parameters:\n",
    " \n",
    " - data dimention (`dim`)\n",
    " - list of existing modes (`modes`)\n",
    " - set of points, in the form of a dictionnary (`pts_dict`)\n",
    "\n",
    "For each node, the following parameters can be retrieved in the previous information:\n",
    " - for each mode, the sum of points belonging to that mode (`elements`)\n",
    " - predicted class for the given set of points, given by the mode which has the most elements (`predicted_class`)\n",
    " - gini score for the given set of points (`gini`)\n",
    " \n",
    "If the node isn't a leaf, meaning it's gini score isn't zero or maximum depth hasn't been reached, it will have left and right \"sons\" - resulting from the thresholding of the points according to one dimension. So nodes that aren't leaves will have the additional parameters:\n",
    "\n",
    " - threshold value (`threshold`)\n",
    " - threshold dimension (`threshold_dim`)\n",
    " - left son: another Node type object (`left`)\n",
    " - right son: another Node type object (`right`)"
   ]
  },
  {
   "cell_type": "markdown",
   "metadata": {},
   "source": [
    "We can implement the previous functions inside the class"
   ]
  },
  {
   "cell_type": "code",
   "execution_count": 1,
   "metadata": {
    "collapsed": false,
    "jupyter": {
     "outputs_hidden": false
    }
   },
   "outputs": [],
   "source": [
    "class Node:\n",
    "    ###### INIT ######\n",
    "    def __init__(self, dim, modes, pts_dict):\n",
    "        # defining features of a node\n",
    "        self.dim = dim\n",
    "        self.modes = modes\n",
    "        self.pts_dict = pts_dict\n",
    "        self.elements = None\n",
    "        self.predicted_class = None\n",
    "        self.gini = None\n",
    "        self.threshold = None\n",
    "        self.threshold_dim = None\n",
    "        self.left = None\n",
    "        self.right = None\n",
    "\n",
    "    ###### STATIC METHOD ######\n",
    "    @staticmethod\n",
    "    def _grow_tree(pts_dict, dim, modes, maxdepth, depth=0):\n",
    "        # define a global variable partitions that we can later access to make decisions\n",
    "        if depth==0:\n",
    "            global partitions\n",
    "            partitions = []\n",
    "\n",
    "        # current node definition\n",
    "        node = Node(\n",
    "            dim = dim,\n",
    "            modes = modes,\n",
    "            pts_dict = pts_dict\n",
    "        )\n",
    "\n",
    "        node.elements = node._elements()\n",
    "        node.predicted_class = node._predicted_class()\n",
    "        node.gini = node._gini()\n",
    "\n",
    "        # Split recursively, and define following nodes, until maximum depth is reached\n",
    "        # or the gini value of the node is equal to 0\n",
    "        if depth < maxdepth and node.gini != 0:\n",
    "            ginimin_opt, pts_dict_left, pts_dict_right, line = node._optimize()\n",
    "\n",
    "            node.threshold, node.threshold_dim = line\n",
    "\n",
    "            partitions.append(line)\n",
    "\n",
    "            node.left = Node._grow_tree(pts_dict_left, dim, modes, maxdepth, depth + 1)\n",
    "\n",
    "            node.right = Node._grow_tree(pts_dict_right, dim, modes, maxdepth, depth + 1)\n",
    "        return node\n",
    "\n",
    "    ###### INSTANCE METHODS ###### \n",
    "    def _elements(self):\n",
    "        '''pts per mode, for each mode, for given pts_dict'''\n",
    "\n",
    "        elements = []\n",
    "        for m in self.modes:\n",
    "            elements.append(len([coord for coord,mode in self.pts_dict.items() if mode == m]))\n",
    "        return elements\n",
    "\n",
    "    #-------------------------#\n",
    "    def _predicted_class(self):\n",
    "        '''predicted mode for given thresholds'''\n",
    "        return np.argmax(self.elements)\n",
    "\n",
    "    #--------------------------#\n",
    "    def _cut(self,line):\n",
    "        '''split pts along a line (threshold, dim)'''\n",
    "        threshold, dimention = line\n",
    "        pts1,pts2 = {},{}\n",
    "        for d in self.pts_dict:\n",
    "            if d[dimention]<=threshold:\n",
    "                pts1[d] = self.pts_dict[d]\n",
    "            else:\n",
    "                pts2[d] = self.pts_dict[d]\n",
    "        return pts1,pts2\n",
    "\n",
    "    #---------------------------#\n",
    "    def _gini(self):\n",
    "        '''compute gini for given points'''\n",
    "        elements = []\n",
    "        for m in self.modes:\n",
    "            elements.append(len([coord for coord,mode in self.pts_dict.items() if mode == m]))\n",
    "\n",
    "        total = sum(elements)\n",
    "        squares = [(x**2)/(total**2) for x in elements]\n",
    "\n",
    "        gini = 1 - np.sum(squares)\n",
    "\n",
    "        return gini\n",
    "    \n",
    "    #----------------------------#\n",
    "    def _optimize(self,niter=150):\n",
    "        '''optimize next cut'''\n",
    "\n",
    "        # gini for given points\n",
    "        ginipts = self._gini()\n",
    "\n",
    "        # for a given number of iterations\n",
    "        for iteration in range(niter):\n",
    "            threshold_dim = np.random.randint(self.dim)  # pick a random dimention\n",
    "\n",
    "            init = next(iter(self.pts_dict))[threshold_dim]  # pick the first point\n",
    "            threshold_scale = [init,init]                    # initialize the scale\n",
    "\n",
    "            # find the smallest and biggest point in the given dimension\n",
    "            for i in self.pts_dict:\n",
    "                if i[threshold_dim] < threshold_scale[0]:\n",
    "                    threshold_scale[0] = i[threshold_dim]\n",
    "                if i[threshold_dim] > threshold_scale[1]:\n",
    "                    threshold_scale[1] = i[threshold_dim]\n",
    "\n",
    "            # choose the threshold according the scale (not to have meaningless thresholds)\n",
    "            threshold = random.uniform(threshold_scale[0],threshold_scale[1])\n",
    "\n",
    "            # build the line\n",
    "            line = [threshold,threshold_dim]\n",
    "\n",
    "            # split pts across the line\n",
    "            pts1, pts2 = self._cut(line)\n",
    "\n",
    "            # compute gini\n",
    "            ginipts1_norm = (len(pts1)/len(self.pts_dict))*gini(pts1,self.modes)\n",
    "            ginipts2_norm = (len(pts2)/len(self.pts_dict))*gini(pts2,self.modes)\n",
    "\n",
    "            # ginimin: value to maximize\n",
    "            ginimin = ginipts - (ginipts1_norm + ginipts2_norm)\n",
    "\n",
    "            if iteration:\n",
    "                # test if previous ginimin smaller than current ginimin\n",
    "                if ginimin > ginimin_opt:\n",
    "                    # if yes, keep it\n",
    "                    ginimin_opt, pts1_opt, pts2_opt, line_opt = ginimin, pts1, pts2, line\n",
    "            else:\n",
    "                # initialize\n",
    "                ginimin_opt, pts1_opt, pts2_opt, line_opt = ginimin, pts1, pts2, line\n",
    "\n",
    "        return ginimin_opt, pts1_opt, pts2_opt, line_opt\n",
    "\n",
    "\n",
    "    ###### DISPLAY ######\n",
    "\n",
    "    def print_tree(self, pfx = \"\", pfx2 = \"\"):\n",
    "        # if not end node, print threshold value, dim and predicted mode\n",
    "        if self.threshold:\n",
    "            print (pfx, \"─ \", 'threshold value: %s, threshold dimention: %s, predicted mode: %s' \n",
    "                   % (self.threshold, self.threshold_dim, self.predicted_class))\n",
    "            \n",
    "        # if end node, print predicted mode and gini score\n",
    "        else:\n",
    "            print (pfx, \"─ \", 'predicted mode: %s, gini score: %s' \n",
    "                   % (self.predicted_class, round(self.gini,2)))\n",
    "            \n",
    "        # if node has a left son, continue left, adding a left prefix while keeping previous prefixes\n",
    "        if self.left != None:\n",
    "            self.left.print_tree(pfx2 + \"  │\", pfx2 + \"  │\")\n",
    "        \n",
    "        # if node has a right son, continue right, adding a right prefix while keeping previous prefixes\n",
    "        if self.right != None:\n",
    "            self.right.print_tree(pfx2 + \"  └\", pfx2 + \"   \")"
   ]
  },
  {
   "cell_type": "code",
   "execution_count": 21,
   "metadata": {
    "collapsed": false,
    "jupyter": {
     "outputs_hidden": false
    }
   },
   "outputs": [],
   "source": [
    "tree = Node._grow_tree(pts, dim, modes, 50)"
   ]
  },
  {
   "cell_type": "markdown",
   "metadata": {},
   "source": [
    "I implemented a method that prints the decision tree (Unix style):"
   ]
  },
  {
   "cell_type": "code",
   "execution_count": 22,
   "metadata": {
    "collapsed": false,
    "jupyter": {
     "outputs_hidden": false
    }
   },
   "outputs": [
    {
     "name": "stdout",
     "output_type": "stream",
     "text": [
      " ─  threshold value: 2.6888483275759065, threshold dimention: 1, predicted mode: 4\n",
      "  │ ─  threshold value: -3.668879143179424, threshold dimention: 2, predicted mode: 1\n",
      "  │  │ ─  predicted mode: 2, gini score: 0.0\n",
      "  │  └ ─  threshold value: 1.7621171824360808, threshold dimention: 2, predicted mode: 1\n",
      "  │     │ ─  threshold value: -1.1964082344713494, threshold dimention: 1, predicted mode: 1\n",
      "  │     │  │ ─  threshold value: -1.0836341137230838, threshold dimention: 2, predicted mode: 1\n",
      "  │     │  │  │ ─  threshold value: -1.470244573148615, threshold dimention: 2, predicted mode: 1\n",
      "  │     │  │  │  │ ─  predicted mode: 1, gini score: 0.0\n",
      "  │     │  │  │  └ ─  threshold value: -1.716021561591849, threshold dimention: 1, predicted mode: 1\n",
      "  │     │  │  │     │ ─  predicted mode: 0, gini score: 0.0\n",
      "  │     │  │  │     └ ─  predicted mode: 1, gini score: 0.0\n",
      "  │     │  │  └ ─  threshold value: -2.2760178787873233, threshold dimention: 1, predicted mode: 0\n",
      "  │     │  │     │ ─  predicted mode: 1, gini score: 0.0\n",
      "  │     │  │     └ ─  predicted mode: 0, gini score: 0.0\n",
      "  │     │  └ ─  predicted mode: 0, gini score: 0.0\n",
      "  │     └ ─  predicted mode: 3, gini score: 0.0\n",
      "  └ ─  predicted mode: 4, gini score: 0.0\n"
     ]
    }
   ],
   "source": [
    "tree.print_tree()"
   ]
  },
  {
   "cell_type": "markdown",
   "metadata": {},
   "source": [
    "We can visualize the clustering process with my `display3dpts` function:"
   ]
  },
  {
   "cell_type": "code",
   "execution_count": 23,
   "metadata": {
    "collapsed": false,
    "jupyter": {
     "outputs_hidden": false
    }
   },
   "outputs": [
    {
     "data": {
      "text/html": [
       "<img src=\"./fig1.gif\">"
      ],
      "text/plain": [
       "<IPython.core.display.HTML object>"
      ]
     },
     "metadata": {},
     "output_type": "display_data"
    },
    {
     "data": {
      "text/html": [
       "<img src=\"./fig2.gif\">"
      ],
      "text/plain": [
       "<IPython.core.display.HTML object>"
      ]
     },
     "metadata": {},
     "output_type": "display_data"
    },
    {
     "data": {
      "text/html": [
       "<img src=\"./fig3.gif\">"
      ],
      "text/plain": [
       "<IPython.core.display.HTML object>"
      ]
     },
     "metadata": {},
     "output_type": "display_data"
    },
    {
     "data": {
      "text/html": [
       "<img src=\"./fig4.gif\">"
      ],
      "text/plain": [
       "<IPython.core.display.HTML object>"
      ]
     },
     "metadata": {},
     "output_type": "display_data"
    },
    {
     "data": {
      "text/html": [
       "<img src=\"./fig5.gif\">"
      ],
      "text/plain": [
       "<IPython.core.display.HTML object>"
      ]
     },
     "metadata": {},
     "output_type": "display_data"
    },
    {
     "data": {
      "text/html": [
       "<img src=\"./fig6.gif\">"
      ],
      "text/plain": [
       "<IPython.core.display.HTML object>"
      ]
     },
     "metadata": {},
     "output_type": "display_data"
    },
    {
     "data": {
      "text/html": [
       "<img src=\"./fig7.gif\">"
      ],
      "text/plain": [
       "<IPython.core.display.HTML object>"
      ]
     },
     "metadata": {},
     "output_type": "display_data"
    },
    {
     "data": {
      "text/html": [
       "<img src=\"./fig8.gif\">"
      ],
      "text/plain": [
       "<IPython.core.display.HTML object>"
      ]
     },
     "metadata": {},
     "output_type": "display_data"
    },
    {
     "data": {
      "text/html": [
       "<img src=\"./fig9.gif\">"
      ],
      "text/plain": [
       "<IPython.core.display.HTML object>"
      ]
     },
     "metadata": {},
     "output_type": "display_data"
    }
   ],
   "source": [
    "display3dpts(pts,modes,scale,partitions)"
   ]
  },
  {
   "cell_type": "markdown",
   "metadata": {},
   "source": [
    "## Classify new points"
   ]
  },
  {
   "cell_type": "code",
   "execution_count": 24,
   "metadata": {
    "collapsed": false,
    "jupyter": {
     "outputs_hidden": false
    }
   },
   "outputs": [],
   "source": [
    "def classify_pts(tree, pts):\n",
    "    pts_class = []\n",
    "    for pt in pts:\n",
    "        node = tree\n",
    "\n",
    "        while node.gini != 0:\n",
    "            if pt[node.threshold_dim] < node.threshold:\n",
    "                node = node.left\n",
    "            else:\n",
    "                node = node.right\n",
    "        \n",
    "        pts_class.append(node.predicted_class)\n",
    "    return pts_class"
   ]
  },
  {
   "cell_type": "markdown",
   "metadata": {},
   "source": [
    "If we create a simple distribution for testing:"
   ]
  },
  {
   "cell_type": "code",
   "execution_count": 25,
   "metadata": {
    "collapsed": false,
    "jupyter": {
     "outputs_hidden": false
    }
   },
   "outputs": [
    {
     "name": "stdin",
     "output_type": "stream",
     "text": [
      "data dimension:  3\n",
      "number of modes: 2\n"
     ]
    },
    {
     "name": "stdout",
     "output_type": "stream",
     "text": [
      "\n",
      "for mode 0:\n"
     ]
    },
    {
     "name": "stdin",
     "output_type": "stream",
     "text": [
      "mu for dim 0: -1\n",
      "mu for dim 1: -2\n",
      "mu for dim 2: -2\n",
      "sigma for dim 0: 0.5\n",
      "sigma for dim 1: 0.5\n",
      "sigma for dim 2: 0.5\n",
      "number of points: 5\n"
     ]
    },
    {
     "name": "stdout",
     "output_type": "stream",
     "text": [
      "\n",
      "for mode 1:\n"
     ]
    },
    {
     "name": "stdin",
     "output_type": "stream",
     "text": [
      "mu for dim 0: 0\n",
      "mu for dim 1: 5\n",
      "mu for dim 2: 5\n",
      "sigma for dim 0: 0.5\n",
      "sigma for dim 1: 0.5\n",
      "sigma for dim 2: 0.5\n",
      "number of points: 5\n"
     ]
    }
   ],
   "source": [
    "dist_test, dim_test = distribution()"
   ]
  },
  {
   "cell_type": "code",
   "execution_count": 26,
   "metadata": {
    "collapsed": false,
    "jupyter": {
     "outputs_hidden": false
    }
   },
   "outputs": [],
   "source": [
    "pts_test, modes_test, scale_test = rddata(dist_test, dim_test)"
   ]
  },
  {
   "cell_type": "code",
   "execution_count": 27,
   "metadata": {
    "collapsed": false,
    "jupyter": {
     "outputs_hidden": false
    }
   },
   "outputs": [
    {
     "data": {
      "text/plain": [
       "[1, 1, 1, 1, 1, 4, 4, 4, 4, 4]"
      ]
     },
     "execution_count": 27,
     "metadata": {},
     "output_type": "execute_result"
    }
   ],
   "source": [
    "classify_pts(tree,pts_test)"
   ]
  },
  {
   "cell_type": "markdown",
   "metadata": {},
   "source": [
    "I chose mode 0 corresponding to mode 1 of the previously studied distribution, and mode 1 as mode 4 of the previosuly studied distribution.\n",
    "\n",
    "All modes have been attributed correctly, my classification algorithm seems to have worked quite well! But with other random data in the same distribution center, results could vary if sigma is large..."
   ]
  }
 ],
 "metadata": {
  "kernelspec": {
   "display_name": "Python 3",
   "language": "python",
   "name": "python3"
  },
  "language_info": {
   "codemirror_mode": {
    "name": "ipython",
    "version": 3
   },
   "file_extension": ".py",
   "mimetype": "text/x-python",
   "name": "python",
   "nbconvert_exporter": "python",
   "pygments_lexer": "ipython3",
   "version": "3.7.6"
  },
  "name": "projet_1_analyse_de_donnees.ipynb"
 },
 "nbformat": 4,
 "nbformat_minor": 4
}
