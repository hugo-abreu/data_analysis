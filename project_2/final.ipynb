{
 "cells": [
  {
   "cell_type": "markdown",
   "metadata": {},
   "source": [
    "# Projet Analyse de Données\n",
    "\n",
    "## Analyse de Textes - Classification de l'auteur par stylométrie\n",
    "\n",
    "- Hugo Abreu"
   ]
  },
  {
   "cell_type": "markdown",
   "metadata": {},
   "source": [
    "## Introduction"
   ]
  },
  {
   "cell_type": "markdown",
   "metadata": {},
   "source": [
    "Je vais construire un système de reconnaissance de style d'écriture, qui - en lui donnant une base de données de textes - calcule des métriques de style (qui ont été montrées comme étant plus ou moins invariables selon l'auteur) et peut ensuite les utiliser pour entrainer un modèle qui permet de reconnaitre l'auteur d'un texte uniquement à partir du texte brut.\n",
    "\n",
    "Une première partie du travail concerne le traitement des textes et l'extraction des métriques de style.\n",
    "\n",
    "Ensuite, je vais transformer ces métriques dans un format utilisable par des algorithmes de classification.\n",
    "\n",
    "Finalement, je vais entrainer ces algorithmes de classification pour pouvoir tester leur performance sur des données de test."
   ]
  },
  {
   "cell_type": "markdown",
   "metadata": {},
   "source": [
    "## Bibliographie"
   ]
  },
  {
   "cell_type": "markdown",
   "metadata": {},
   "source": [
    "La stylométrie est un thème très abordé en linguistique, et beaucoup de personnes ont déjà créé des métriques qui ont été prouvées, sur un corpus de textes, comme étant propres à l'auteur. Je ne vais pas m'occuper de montrer en quoi mes métriques reflètent l'auteur, mais je me suis inspiré de certaines déjà existantes et je pense qu'elles ont du sens. \n",
    "\n",
    "Je me suis inspiré des papiers suivants pour construire mes métriques:"
   ]
  },
  {
   "cell_type": "markdown",
   "metadata": {},
   "source": [
    "- Efstathios Stamatatos, “A Survey of Modern Authorship Attribution Method,” Journal of the American Society for Information Science and Technology, vol. 60, no. 3 (December 2008), p. 538–56, citation on p. 540, https://doi.org/10.1002/asi.21001.\n",
    "- Douglass Adair, “The Authorship of the Disputed Federalist Papers”, The William and Mary Quarterly, vol. 1, no. 2 (April 1944), pp. 97-122.\n",
    "- John Burrows, “All the Way Through: Testing for Authorship in Different Frequency Strata,” Literary and Linguistic Computing, vol. 22, no. 1 (April 2007), pp. 27–47, https://doi.org/10.1093/llc/fqi067.\n",
    "- John Burrows, “‘Delta’: a Measure of Stylistic Difference and a Guide to Likely Authorship”, Literary and Linguistic Computing, vol. 17, no. 3 (2002), pp. 267-287"
   ]
  },
  {
   "cell_type": "markdown",
   "metadata": {},
   "source": [
    "## Importations"
   ]
  },
  {
   "cell_type": "code",
   "execution_count": 1,
   "metadata": {
    "collapsed": false,
    "jupyter": {
     "outputs_hidden": false
    }
   },
   "outputs": [
    {
     "name": "stderr",
     "output_type": "stream",
     "text": [
      "[nltk_data] Downloading package punkt to /Users/hpa/nltk_data...\n",
      "[nltk_data]   Package punkt is already up-to-date!\n"
     ]
    }
   ],
   "source": [
    "# Librairies générales\n",
    "import os\n",
    "import numpy       as np\n",
    "import pandas      as pd\n",
    "import math\n",
    "import string\n",
    "import json\n",
    "import collections as col\n",
    "import time\n",
    "\n",
    "# Librairies Langage Naturelle\n",
    "import nltk\n",
    "from   nltk.corpus   import cmudict, stopwords\n",
    "from   nltk.tokenize import word_tokenize, sent_tokenize, RegexpTokenizer\n",
    "\n",
    "nltk.download('punkt')\n",
    "\n",
    "# Librairies d'analyse (Machine Learning)\n",
    "from sklearn.preprocessing import StandardScaler\n",
    "from sklearn.neighbors     import KNeighborsClassifier\n",
    "from sklearn.ensemble      import RandomForestRegressor\n",
    "from sklearn.metrics       import confusion_matrix\n",
    "\n",
    "\n",
    "\n",
    "# Librairies visualisation\n",
    "import matplotlib.pyplot as plt\n",
    "import seaborn           as sn"
   ]
  },
  {
   "cell_type": "markdown",
   "metadata": {},
   "source": [
    "## Base de Données de Fichiers texte"
   ]
  },
  {
   "cell_type": "markdown",
   "metadata": {},
   "source": [
    "Je vais utiliser les textes qui se trouvent en http://textfiles.com/etext/AUTHORS/. Ils sont en format .txt et sont indexes par autheur. \n",
    "\n",
    "Comme le nom de chaque fichier commence par auteur-xxx.txt, je peut facilement récupérer l'auteur avec le nom du fichier.\n",
    "\n",
    "Quelques fichiers (ceux qui proviennent du projet Gutenberg) possèdent une grande entête. J'ai donc manuellement enlevé les entêtes pour ces fichiers, pour ne pas fausser les analyses de style\n",
    "\n",
    "J'ai préféré utiliser des textes en anglais, vu qu'il existe plus de métriques de style publiées en anglais, et que les librairies de langage naturel sont plus développées en anlais. De plus, il est plus facile d'obtenir des bases de données de textes."
   ]
  },
  {
   "cell_type": "markdown",
   "metadata": {},
   "source": [
    "## Classe Document"
   ]
  },
  {
   "cell_type": "markdown",
   "metadata": {},
   "source": [
    "Je vais créer une classe document, qui gère la décomposition des textes et le calcul de métriques.\n",
    "\n",
    "Un objet de cette classe représente un texte, et possède les attributs suivants:\n",
    "- un nom de fichier (récupéré dans un répertoire avec tous les fichiers)\n",
    "- un nom d'auteur (première partie du nom de fichier, avant le premier \"-\")\n",
    "- l'intégralité du texte (long string qui contient tout le fichier)\n",
    "- une liste de phrases en minuscules (donnée par la librairie nltk)\n",
    "- une liste de mots en minuscules (donnée par nltk)\n",
    "- une liste de mots sans ponctuation\n",
    "- une liste de mots, sans ponctuation, sans chiffres et sans mots stop (mots très courants qui ne reflètent pas forcément le style de l'auteur)\n",
    "    - si néanmoins l'utilisation de mots stops est une partie importante du style de l'auteur, j'ai une métrique qui me donne la proportion de mots stop dans tous les autres mots\n",
    "- un dictionnaire donnant l'occurence de chaque mot dans le texte"
   ]
  },
  {
   "cell_type": "markdown",
   "metadata": {},
   "source": [
    "Il est important d'avoir des listes de mots sans les stopwords, vu que les stopwords sont nécessaires à la construction de phrases et ne révèlent pas forcément le style de l'auteur"
   ]
  },
  {
   "cell_type": "markdown",
   "metadata": {},
   "source": [
    "Les attributs précédants ne donnent pas d'information particulière sur le style de l'auteur, ils sont simplement des outils utiles pour pouvoir calculer des métriques. Je vais calculer des métriques à l'aide de ces attributs\n",
    "\n",
    "Je vais créer une méthode de classe `_stylographie()` qui appellera les fonctions calculant ces métriques, plus tard"
   ]
  },
  {
   "cell_type": "markdown",
   "metadata": {},
   "source": [
    "## Définition de métriques pour la stylométrie"
   ]
  },
  {
   "cell_type": "markdown",
   "metadata": {},
   "source": [
    "`len_moy_mots`: prend en paramètre la liste de mots sans points, chiffres, mots vides et mots stop, et renvoit:\n",
    "- la taille moyenne des mots dans le texte\n",
    "- la proportion de mots de taille supérieure à 10 caractères dans le texte"
   ]
  },
  {
   "cell_type": "code",
   "execution_count": 3,
   "metadata": {
    "collapsed": false,
    "jupyter": {
     "outputs_hidden": false
    }
   },
   "outputs": [],
   "source": [
    "def len_moy_mots(mots):\n",
    "    liste_len_mots = [len(mot) for mot in mots]\n",
    "    freq_dist = nltk.FreqDist(liste_len_mots)\n",
    "\n",
    "    prop_mots_superieurs_a_10 = 0\n",
    "    for val, nb_mots in list(filter(lambda x: x[1]>=1000, freq_dist.items())):\n",
    "        prop_mots_superieurs_a_10 += nb_mots\n",
    "\n",
    "    return np.average(liste_len_mots), (prop_mots_superieurs_a_10 / len(mots))"
   ]
  },
  {
   "cell_type": "markdown",
   "metadata": {},
   "source": [
    "`len_moy_phrase_mots`: prend en paramètre la liste des phrases, et renvoit:\n",
    "- la taille moyenne des phrases selon le nombre de mots"
   ]
  },
  {
   "cell_type": "code",
   "execution_count": 4,
   "metadata": {
    "collapsed": false,
    "jupyter": {
     "outputs_hidden": false
    }
   },
   "outputs": [],
   "source": [
    "def len_moy_phrase_mots(phrases):\n",
    "    return np.average([len(phrase.split()) for phrase in phrases])"
   ]
  },
  {
   "cell_type": "markdown",
   "metadata": {},
   "source": [
    "`len_moy_phrase_caracteres`: prend en paramètre la liste des phrases, et renvoit:\n",
    "- la taille moyenne des phrases selon le nombre de caractères"
   ]
  },
  {
   "cell_type": "code",
   "execution_count": 5,
   "metadata": {
    "collapsed": false,
    "jupyter": {
     "outputs_hidden": false
    }
   },
   "outputs": [],
   "source": [
    "def len_moy_phrase_caracteres(phrases):\n",
    "    return np.average([len(phrase) for phrase in phrases])"
   ]
  },
  {
   "cell_type": "markdown",
   "metadata": {},
   "source": [
    "`ponctuation`: prend en argument l'intégralité du document, et renvoit:\n",
    "- la liste d'occurences de chaque caractère appartenant à la liste de ponctuation de la librairie string (`string.punctuation`)"
   ]
  },
  {
   "cell_type": "code",
   "execution_count": 6,
   "metadata": {
    "collapsed": false,
    "jupyter": {
     "outputs_hidden": false
    }
   },
   "outputs": [],
   "source": [
    "def ponctuation(document):\n",
    "    return col.Counter([carac for carac in document if carac in string.punctuation])"
   ]
  },
  {
   "cell_type": "markdown",
   "metadata": {},
   "source": [
    "`nb_moy_syllabes_mots`: prend en arguement la liste de mots sans points, chiffre, mots vides et mots stop, et renvoit:\n",
    "- le nombre moyen de syllabes par mot dans le texte, ne prenant pas en compte les mots stop (donc correlation avec le style de l'auteur)\n",
    "\n",
    "note: pour calculer le nombre de syllabes, je calcule combien de fois il y a une transition entre une voyelle et une autre lettre, dans un mot. Pour ce faire, j'ai créé une fonction `nb_syllabes()`"
   ]
  },
  {
   "cell_type": "code",
   "execution_count": 7,
   "metadata": {
    "collapsed": false,
    "jupyter": {
     "outputs_hidden": false
    }
   },
   "outputs": [],
   "source": [
    "def nb_moy_syllabes_mots(mots):\n",
    "\n",
    "    def nb_syllabes(mot):       # Fonction retournant le nb de syllabes dans un mot\n",
    "        return sum(list(map(lambda x:\n",
    "                            1 if x in [\"a\",\"e\",\"i\",\"o\",\"u\",\"y\",\"A\",\"E\",\"I\",\"O\",\"U\",\"Y\"]\n",
    "                            else 0, mot)))\n",
    "\n",
    "    return (sum([nb_syllabes(mot) for mot in mots]) / len(mots))"
   ]
  },
  {
   "cell_type": "markdown",
   "metadata": {},
   "source": [
    "`proportion_stop`: prend en argument la liste de mots, et la liste de mots sans points, chiffres, mots vides et mots stop, et renvoit:\n",
    "- proportion de mots stop dans mots"
   ]
  },
  {
   "cell_type": "code",
   "execution_count": 8,
   "metadata": {
    "collapsed": false,
    "jupyter": {
     "outputs_hidden": false
    }
   },
   "outputs": [],
   "source": [
    "def proportion_stop(mots,stop):\n",
    "    return len(stop)/len(mots)"
   ]
  },
  {
   "cell_type": "markdown",
   "metadata": {},
   "source": [
    "`hapax_legomenon`: prend en argument la liste de mots sans points, chiffre, mots vides et mots stop, et renvoit:\n",
    "- proportion de mots ayant une occurance unique dans le texte"
   ]
  },
  {
   "cell_type": "code",
   "execution_count": 9,
   "metadata": {
    "collapsed": false,
    "jupyter": {
     "outputs_hidden": false
    }
   },
   "outputs": [],
   "source": [
    "def hapax_legomenon(mots):\n",
    "    occurences = col.Counter(mots)\n",
    "    unique = 0\n",
    "\n",
    "    for mot in occurences.keys():\n",
    "        if occurences[mot] == 1:\n",
    "            unique += 1\n",
    "\n",
    "    return unique / len(mots)"
   ]
  },
  {
   "cell_type": "markdown",
   "metadata": {},
   "source": [
    "`test_flesh_kincaid`: prend en argument la liste de mots sans points, chiffre, mots vides ou mots stop, la liste de phrases, et le nombre moyen de syllabes par mot, et renvoit:\n",
    "- score du test de lisibilité Flesh Kincaid, un standard dans le milieu de stylométrie. Même si ce n'est qu'une combinaison de paramètres déjà calculés, il peut être utile pour analyser chaque texte individuellement"
   ]
  },
  {
   "cell_type": "code",
   "execution_count": 10,
   "metadata": {
    "collapsed": false,
    "jupyter": {
     "outputs_hidden": false
    }
   },
   "outputs": [],
   "source": [
    "def test_flesh_kincaid(mots, phrases, nb_moy_syllabes_mots):\n",
    "    return 0.39 * (len(mots) / len(phrases)) + 11.8 * (nb_moy_syllabes_mots) - 15.59"
   ]
  },
  {
   "cell_type": "markdown",
   "metadata": {},
   "source": [
    "## Déclaration de la classe Document"
   ]
  },
  {
   "cell_type": "markdown",
   "metadata": {},
   "source": [
    "On déclare la classe `Document` comme décrite précédemment"
   ]
  },
  {
   "cell_type": "code",
   "execution_count": 50,
   "metadata": {
    "collapsed": false,
    "jupyter": {
     "outputs_hidden": false
    }
   },
   "outputs": [],
   "source": [
    "class Document(object):\n",
    "\n",
    "    def __init__(self, fichier):  # \n",
    "        print(\"initialisation de\", fichier)\n",
    "\n",
    "        self.fichier                   = fichier\n",
    "        self.auteur                    = fichier.split(\"-\")[0]\n",
    "        self.document                  = open(fichier, \"r\").read()\n",
    "        self.phrases                   = [x.lower() for x in sent_tokenize(self.document)]\n",
    "        self.mots                      = [x.lower() for x in word_tokenize(self.document)]\n",
    "\n",
    "        # Liste de mots, sans ponctuation et sans le mot vide\n",
    "        self.mots_sans_punct           = [mot.translate(str.maketrans('', '', string.punctuation))\n",
    "                                          for mot in self.mots\n",
    "                                          if  mot.translate(str.maketrans('', '', string.punctuation))]\n",
    "\n",
    "        # Liste de mots sans ponctuation, le mot vide, chiffre, ou mots stop\n",
    "        self.mots_sans_punct_chif_stop = [mot for mot in self.mots_sans_punct\n",
    "                                          if mot not in stopwords.words('english')\n",
    "                                          if not any(map(str.isdigit, mot))]\n",
    "\n",
    "        # Fréquence de chaque mot dans le texte\n",
    "        self.freq_occurences           = nltk.FreqDist(self.mots_sans_punct_chif_stop)\n",
    "\n",
    "        print(\"texte\", self.fichier, \"initialisé\")\n",
    "\n",
    "    def _stylographie(self):\n",
    "        # Critères lexicaux\n",
    "        self.len_moy_mots              = len_moy_mots(self.mots_sans_punct_chif_stop)\n",
    "        self.len_moy_phrase_mots       = len_moy_phrase_mots(self.phrases)\n",
    "        self.len_moy_phrase_caracteres = len_moy_phrase_caracteres(self.phrases)\n",
    "        self.ponctuation               = ponctuation(self.document)\n",
    "        self.nb_moy_syllabes_mots      = nb_moy_syllabes_mots(self.mots_sans_punct_chif_stop)\n",
    "        self.proportion_stop           = proportion_stop(self.mots, self.mots_sans_punct_chif_stop)\n",
    "\n",
    "        # Critères de richesse de vocabulaire\n",
    "        self.hapax_legomenon           = hapax_legomenon(self.mots_sans_punct_chif_stop)\n",
    "\n",
    "        # Scores de lisibilité\n",
    "        self.test_flesh_kincaid        = test_flesh_kincaid(self.mots, self.phrases, self.nb_moy_syllabes_mots)\n",
    "\n",
    "\n",
    "        print(\"métriques de\", self.fichier, \"calculées\")\n",
    "\n",
    "    def _print_stylographie(self):\n",
    "        # utile pour le debuggage ou pour analser un texte en particulier\n",
    "        print(\"len_moy_mots: \", self.len_moy_mots)\n",
    "        print(\"len_moy_phrase_mots: \", self.len_moy_phrase_mots)\n",
    "        print(\"len_moy_phrase_caracteres: \", self.len_moy_phrase_caracteres)\n",
    "        print(\"ponctuation: \", self.ponctuation)\n",
    "        print(\"nb_moyen_syllabes_mots: \", self.nb_moy_syllabes_mots)\n",
    "        print(\"proportion_stop: \", self.proportion_stop)\n",
    "        print(\"hapax: \", self.hapax_legomenon)\n",
    "        print(\"test_flesh_kincaid: \", self.test_flesh_kincaid)"
   ]
  },
  {
   "cell_type": "markdown",
   "metadata": {},
   "source": [
    "## Initialisation des fichiers et calculs stylométriques"
   ]
  },
  {
   "cell_type": "markdown",
   "metadata": {},
   "source": [
    "Pour créer une base de donnée de documents, j'utilise la fonction suivante `charger_fichier(repertoire)`. Elle parcourt un repertoire donné, et initialise - pour chaque texte - un objet de type `Document`, pour lequel elle calcule les métriques de stylométrie, et qu'elle place dans un dictionnaire `textes`. Ce cera ce dictionnaire que l'on manipulera plus tard\n",
    "\n",
    "Comme on doit faire les précomputations et le calcul des métriques pour chaque texte, `charger_fichier()` est une fonction qui prend environ 20 minutes pour l'ensemble des textes utilisés. \n",
    "\n",
    "Attention à bien avoir comme repertoire courant le repertoire où se trouve le fichier `final.ipynb`. "
   ]
  },
  {
   "cell_type": "code",
   "execution_count": 45,
   "metadata": {},
   "outputs": [
    {
     "data": {
      "text/plain": [
       "'/Users/hpa/CPES3/Analyse de Données/projet_2'"
      ]
     },
     "execution_count": 45,
     "metadata": {},
     "output_type": "execute_result"
    }
   ],
   "source": [
    "os.getcwd()"
   ]
  },
  {
   "cell_type": "markdown",
   "metadata": {},
   "source": [
    "Au cas où le repertoire courant n'est pas celui-là, utilisez `os.chdir()` avec les repertoires plus profonds ou avec `'..'` pour trouver le bon repertoire"
   ]
  },
  {
   "cell_type": "code",
   "execution_count": 44,
   "metadata": {},
   "outputs": [],
   "source": [
    "os.chdir('..')"
   ]
  },
  {
   "cell_type": "code",
   "execution_count": 51,
   "metadata": {
    "collapsed": false,
    "jupyter": {
     "outputs_hidden": false
    }
   },
   "outputs": [],
   "source": [
    "def charger_fichiers(repertoire):\n",
    "    # commencer timer\n",
    "    start = time.time()\n",
    "    \n",
    "    # Liste de fichiers dans repertoire, et changement de cwd\n",
    "    fichiers = sorted(os.listdir(repertoire))\n",
    "    os.chdir(repertoire)\n",
    "\n",
    "    textes = {}\n",
    "    for texte in fichiers: # Pour chaque fichier dans cwd, \n",
    "                           # creer un Document et realiser\n",
    "                           # les métriques\n",
    "        if texte.endswith('.txt'):\n",
    "            textes[texte] = Document(texte)\n",
    "            textes[texte]._stylographie()\n",
    "    \n",
    "    os.chdir('..')\n",
    "    \n",
    "    # terminer timer\n",
    "    end = time.time()\n",
    "    print(\"temps écoulé: \", end-start)\n",
    "    \n",
    "    return textes"
   ]
  },
  {
   "cell_type": "markdown",
   "metadata": {},
   "source": [
    "Pour l'exemple donné, utiliser le repertoire `'textes/'` qui contient les fichier .txt."
   ]
  },
  {
   "cell_type": "code",
   "execution_count": 52,
   "metadata": {},
   "outputs": [
    {
     "name": "stdout",
     "output_type": "stream",
     "text": [
      "initialisation de aristotle-on-263.txt\n",
      "texte aristotle-on-263.txt initialisé\n",
      "métriques de aristotle-on-263.txt calculées\n",
      "initialisation de aristotle-on-264.txt\n",
      "texte aristotle-on-264.txt initialisé\n",
      "métriques de aristotle-on-264.txt calculées\n",
      "initialisation de aristotle-on-265.txt\n",
      "texte aristotle-on-265.txt initialisé\n",
      "métriques de aristotle-on-265.txt calculées\n",
      "initialisation de aristotle-on-266.txt\n",
      "texte aristotle-on-266.txt initialisé\n",
      "métriques de aristotle-on-266.txt calculées\n",
      "initialisation de aristotle-on-267.txt\n",
      "texte aristotle-on-267.txt initialisé\n",
      "métriques de aristotle-on-267.txt calculées\n",
      "initialisation de aristotle-on-268.txt\n",
      "texte aristotle-on-268.txt initialisé\n",
      "métriques de aristotle-on-268.txt calculées\n",
      "initialisation de aristotle-on-269.txt\n",
      "texte aristotle-on-269.txt initialisé\n",
      "métriques de aristotle-on-269.txt calculées\n",
      "initialisation de aristotle-on-270.txt\n",
      "texte aristotle-on-270.txt initialisé\n",
      "métriques de aristotle-on-270.txt calculées\n",
      "initialisation de aristotle-on-271.txt\n",
      "texte aristotle-on-271.txt initialisé\n",
      "métriques de aristotle-on-271.txt calculées\n",
      "initialisation de aristotle-on-272.txt\n",
      "texte aristotle-on-272.txt initialisé\n",
      "métriques de aristotle-on-272.txt calculées\n",
      "initialisation de aristotle-on-273.txt\n",
      "texte aristotle-on-273.txt initialisé\n",
      "métriques de aristotle-on-273.txt calculées\n",
      "initialisation de aristotle-on-274.txt\n",
      "texte aristotle-on-274.txt initialisé\n",
      "métriques de aristotle-on-274.txt calculées\n",
      "initialisation de aristotle-on-82.txt\n",
      "texte aristotle-on-82.txt initialisé\n",
      "métriques de aristotle-on-82.txt calculées\n",
      "initialisation de aristotle-on-83.txt\n",
      "texte aristotle-on-83.txt initialisé\n",
      "métriques de aristotle-on-83.txt calculées\n",
      "initialisation de aristotle-on-84.txt\n",
      "texte aristotle-on-84.txt initialisé\n",
      "métriques de aristotle-on-84.txt calculées\n",
      "initialisation de aristotle-rhetoric-86.txt\n",
      "texte aristotle-rhetoric-86.txt initialisé\n",
      "métriques de aristotle-rhetoric-86.txt calculées\n",
      "initialisation de burroughs-at-316.txt\n",
      "texte burroughs-at-316.txt initialisé\n",
      "métriques de burroughs-at-316.txt calculées\n",
      "initialisation de burroughs-beasts-317.txt\n",
      "texte burroughs-beasts-317.txt initialisé\n",
      "métriques de burroughs-beasts-317.txt calculées\n",
      "initialisation de burroughs-ecore10.txt\n",
      "texte burroughs-ecore10.txt initialisé\n",
      "métriques de burroughs-ecore10.txt calculées\n",
      "initialisation de burroughs-gmars11.txt\n",
      "texte burroughs-gmars11.txt initialisé\n",
      "métriques de burroughs-gmars11.txt calculées\n",
      "initialisation de burroughs-gods-320.txt\n",
      "texte burroughs-gods-320.txt initialisé\n",
      "métriques de burroughs-gods-320.txt calculées\n",
      "initialisation de burroughs-jungle-321.txt\n",
      "texte burroughs-jungle-321.txt initialisé\n",
      "métriques de burroughs-jungle-321.txt calculées\n",
      "initialisation de burroughs-lcont10.txt\n",
      "texte burroughs-lcont10.txt initialisé\n",
      "métriques de burroughs-lcont10.txt calculées\n",
      "initialisation de burroughs-mmars10.txt\n",
      "texte burroughs-mmars10.txt initialisé\n",
      "métriques de burroughs-mmars10.txt calculées\n",
      "initialisation de burroughs-monster-323.txt\n",
      "texte burroughs-monster-323.txt initialisé\n",
      "métriques de burroughs-monster-323.txt calculées\n",
      "initialisation de burroughs-princess-324.txt\n",
      "texte burroughs-princess-324.txt initialisé\n",
      "métriques de burroughs-princess-324.txt calculées\n",
      "initialisation de burroughs-return-326.txt\n",
      "texte burroughs-return-326.txt initialisé\n",
      "métriques de burroughs-return-326.txt calculées\n",
      "initialisation de burroughs-son-333.txt\n",
      "texte burroughs-son-333.txt initialisé\n",
      "métriques de burroughs-son-333.txt calculées\n",
      "initialisation de burroughs-tarzan-334.txt\n",
      "texte burroughs-tarzan-334.txt initialisé\n",
      "métriques de burroughs-tarzan-334.txt calculées\n",
      "initialisation de burroughs-tarzan-335.txt\n",
      "texte burroughs-tarzan-335.txt initialisé\n",
      "métriques de burroughs-tarzan-335.txt calculées\n",
      "initialisation de burroughs-thuvia-336.txt\n",
      "texte burroughs-thuvia-336.txt initialisé\n",
      "métriques de burroughs-thuvia-336.txt calculées\n",
      "initialisation de burroughs-warlord-364.txt\n",
      "texte burroughs-warlord-364.txt initialisé\n",
      "métriques de burroughs-warlord-364.txt calculées\n",
      "initialisation de dickens-american-631.txt\n",
      "texte dickens-american-631.txt initialisé\n",
      "métriques de dickens-american-631.txt calculées\n",
      "initialisation de dickens-battle-630.txt\n",
      "texte dickens-battle-630.txt initialisé\n",
      "métriques de dickens-battle-630.txt calculées\n",
      "initialisation de dickens-chimes-379.txt\n",
      "texte dickens-chimes-379.txt initialisé\n",
      "métriques de dickens-chimes-379.txt calculées\n",
      "initialisation de dickens-christmas-125.txt\n",
      "texte dickens-christmas-125.txt initialisé\n",
      "métriques de dickens-christmas-125.txt calculées\n",
      "initialisation de dickens-cricket-127.txt\n",
      "texte dickens-cricket-127.txt initialisé\n",
      "métriques de dickens-cricket-127.txt calculées\n",
      "initialisation de dickens-david-626.txt\n",
      "texte dickens-david-626.txt initialisé\n",
      "métriques de dickens-david-626.txt calculées\n",
      "initialisation de dickens-dombey-622.txt\n",
      "texte dickens-dombey-622.txt initialisé\n",
      "métriques de dickens-dombey-622.txt calculées\n",
      "initialisation de dickens-hard-625.txt\n",
      "texte dickens-hard-625.txt initialisé\n",
      "métriques de dickens-hard-625.txt calculées\n",
      "initialisation de dickens-haunted-633.txt\n",
      "texte dickens-haunted-633.txt initialisé\n",
      "métriques de dickens-haunted-633.txt calculées\n",
      "initialisation de dickens-holiday-623.txt\n",
      "texte dickens-holiday-623.txt initialisé\n",
      "métriques de dickens-holiday-623.txt calculées\n",
      "initialisation de dickens-hunted-624.txt\n",
      "texte dickens-hunted-624.txt initialisé\n",
      "métriques de dickens-hunted-624.txt calculées\n",
      "initialisation de dickens-master-634.txt\n",
      "texte dickens-master-634.txt initialisé\n",
      "métriques de dickens-master-634.txt calculées\n",
      "initialisation de dickens-mystery-636.txt\n",
      "texte dickens-mystery-636.txt initialisé\n",
      "métriques de dickens-mystery-636.txt calculées\n",
      "initialisation de dickens-old-628.txt\n",
      "texte dickens-old-628.txt initialisé\n",
      "métriques de dickens-old-628.txt calculées\n",
      "initialisation de dickens-oliver-627.txt\n",
      "texte dickens-oliver-627.txt initialisé\n",
      "métriques de dickens-oliver-627.txt calculées\n",
      "initialisation de dickens-pickwick-635.txt\n",
      "texte dickens-pickwick-635.txt initialisé\n",
      "métriques de dickens-pickwick-635.txt calculées\n",
      "initialisation de dickens-pictures-632.txt\n",
      "texte dickens-pictures-632.txt initialisé\n",
      "métriques de dickens-pictures-632.txt calculées\n",
      "initialisation de dickens-speeches-621.txt\n",
      "texte dickens-speeches-621.txt initialisé\n",
      "métriques de dickens-speeches-621.txt calculées\n",
      "initialisation de dickens-tale-126.txt\n",
      "texte dickens-tale-126.txt initialisé\n",
      "métriques de dickens-tale-126.txt calculées\n",
      "initialisation de emerson-address-226.txt\n",
      "texte emerson-address-226.txt initialisé\n",
      "métriques de emerson-address-226.txt calculées\n",
      "initialisation de emerson-american-227.txt\n",
      "texte emerson-american-227.txt initialisé\n",
      "métriques de emerson-american-227.txt calculées\n",
      "initialisation de emerson-conduct-228.txt\n",
      "texte emerson-conduct-228.txt initialisé\n",
      "métriques de emerson-conduct-228.txt calculées\n",
      "initialisation de emerson-conservative-229.txt\n",
      "texte emerson-conservative-229.txt initialisé\n",
      "métriques de emerson-conservative-229.txt calculées\n",
      "initialisation de emerson-english-230.txt\n",
      "texte emerson-english-230.txt initialisé\n",
      "métriques de emerson-english-230.txt calculées\n",
      "initialisation de emerson-essays-231.txt\n",
      "texte emerson-essays-231.txt initialisé\n",
      "métriques de emerson-essays-231.txt calculées\n",
      "initialisation de emerson-essays-232.txt\n",
      "texte emerson-essays-232.txt initialisé\n",
      "métriques de emerson-essays-232.txt calculées\n",
      "initialisation de emerson-lecture-233.txt\n",
      "texte emerson-lecture-233.txt initialisé\n",
      "métriques de emerson-lecture-233.txt calculées\n",
      "initialisation de emerson-literary-234.txt\n",
      "texte emerson-literary-234.txt initialisé\n",
      "métriques de emerson-literary-234.txt calculées\n",
      "initialisation de emerson-man-235.txt\n",
      "texte emerson-man-235.txt initialisé\n",
      "métriques de emerson-man-235.txt calculées\n",
      "initialisation de emerson-method-236.txt\n",
      "texte emerson-method-236.txt initialisé\n",
      "métriques de emerson-method-236.txt calculées\n",
      "initialisation de emerson-nature-237.txt\n",
      "texte emerson-nature-237.txt initialisé\n",
      "métriques de emerson-nature-237.txt calculées\n",
      "initialisation de emerson-representative-238.txt\n",
      "texte emerson-representative-238.txt initialisé\n",
      "métriques de emerson-representative-238.txt calculées\n",
      "initialisation de emerson-transcendentalist-239.txt\n",
      "texte emerson-transcendentalist-239.txt initialisé\n",
      "métriques de emerson-transcendentalist-239.txt calculées\n",
      "initialisation de emerson-uncollected-240.txt\n",
      "texte emerson-uncollected-240.txt initialisé\n",
      "métriques de emerson-uncollected-240.txt calculées\n",
      "initialisation de emerson-young-241.txt\n",
      "texte emerson-young-241.txt initialisé\n",
      "métriques de emerson-young-241.txt calculées\n",
      "initialisation de hawthorne-alice-457.txt\n",
      "texte hawthorne-alice-457.txt initialisé\n",
      "métriques de hawthorne-alice-457.txt calculées\n",
      "initialisation de hawthorne-ambitious-467.txt\n",
      "texte hawthorne-ambitious-467.txt initialisé\n",
      "métriques de hawthorne-ambitious-467.txt calculées\n",
      "initialisation de hawthorne-artist-458.txt\n",
      "texte hawthorne-artist-458.txt initialisé\n",
      "métriques de hawthorne-artist-458.txt calculées\n",
      "initialisation de hawthorne-birthmark-459.txt\n",
      "texte hawthorne-birthmark-459.txt initialisé\n",
      "métriques de hawthorne-birthmark-459.txt calculées\n",
      "initialisation de hawthorne-celestial-477.txt\n",
      "texte hawthorne-celestial-477.txt initialisé\n",
      "métriques de hawthorne-celestial-477.txt calculées\n",
      "initialisation de hawthorne-dr-468.txt\n",
      "texte hawthorne-dr-468.txt initialisé\n",
      "métriques de hawthorne-dr-468.txt calculées\n",
      "initialisation de hawthorne-earths-471.txt\n",
      "texte hawthorne-earths-471.txt initialisé\n",
      "métriques de hawthorne-earths-471.txt calculées\n",
      "initialisation de hawthorne-egotism-463.txt\n",
      "texte hawthorne-egotism-463.txt initialisé\n",
      "métriques de hawthorne-egotism-463.txt calculées\n",
      "initialisation de hawthorne-ethan-461.txt\n",
      "texte hawthorne-ethan-461.txt initialisé\n",
      "métriques de hawthorne-ethan-461.txt calculées\n",
      "initialisation de hawthorne-feathertop-464.txt\n",
      "texte hawthorne-feathertop-464.txt initialisé\n",
      "métriques de hawthorne-feathertop-464.txt calculées\n",
      "initialisation de hawthorne-great-466.txt\n",
      "texte hawthorne-great-466.txt initialisé\n",
      "métriques de hawthorne-great-466.txt calculées\n",
      "initialisation de hawthorne-hollow-470.txt\n",
      "texte hawthorne-hollow-470.txt initialisé\n",
      "métriques de hawthorne-hollow-470.txt calculées\n",
      "initialisation de hawthorne-house-64.txt\n",
      "texte hawthorne-house-64.txt initialisé\n",
      "métriques de hawthorne-house-64.txt calculées\n",
      "initialisation de hawthorne-lady-472.txt\n",
      "texte hawthorne-lady-472.txt initialisé\n",
      "métriques de hawthorne-lady-472.txt calculées\n",
      "initialisation de hawthorne-maypole-474.txt\n",
      "texte hawthorne-maypole-474.txt initialisé\n",
      "métriques de hawthorne-maypole-474.txt calculées\n",
      "initialisation de hawthorne-ministers-473.txt\n",
      "texte hawthorne-ministers-473.txt initialisé\n",
      "métriques de hawthorne-ministers-473.txt calculées\n",
      "initialisation de hawthorne-mr-469.txt\n",
      "texte hawthorne-mr-469.txt initialisé\n",
      "métriques de hawthorne-mr-469.txt calculées\n",
      "initialisation de hawthorne-my-475.txt\n",
      "texte hawthorne-my-475.txt initialisé\n",
      "métriques de hawthorne-my-475.txt calculées\n",
      "initialisation de hawthorne-old-462.txt\n",
      "texte hawthorne-old-462.txt initialisé\n",
      "métriques de hawthorne-old-462.txt calculées\n",
      "initialisation de hawthorne-peter-479.txt\n",
      "texte hawthorne-peter-479.txt initialisé\n",
      "métriques de hawthorne-peter-479.txt calculées\n",
      "initialisation de hawthorne-prophetic-476.txt\n",
      "texte hawthorne-prophetic-476.txt initialisé\n",
      "métriques de hawthorne-prophetic-476.txt calculées\n",
      "initialisation de hawthorne-rappaccinis-460.txt\n",
      "texte hawthorne-rappaccinis-460.txt initialisé\n",
      "métriques de hawthorne-rappaccinis-460.txt calculées\n",
      "initialisation de hawthorne-scarlet-63.txt\n",
      "texte hawthorne-scarlet-63.txt initialisé\n",
      "métriques de hawthorne-scarlet-63.txt calculées\n",
      "temps écoulé:  890.7362082004547\n"
     ]
    }
   ],
   "source": [
    "textes = charger_fichiers('textes/')"
   ]
  },
  {
   "cell_type": "markdown",
   "metadata": {},
   "source": [
    "Le temps écoulé est de 890 secondes, soit plus ou moins 15 minutes. \n",
    "\n",
    "Si vous n'avez pas le temps pour laisser courrir le programme sur les données entières, je laisse aussi un dossier `textes_small/` avec 3 auteurs et 6 textes par auteur. Comme j'utilise beaucoup de métriques, avec peu de données les modèles ne s'entrainent pas bien donc la performance finale peut ne pas être très bonne. Mais toutes les fonctions sont indépendantes du nombre d'auteurs et de textes, donc pas de problème pour tester le programme. \n",
    "\n",
    " - Attention: si vous utilisez `textes_small/`, oubliez pas de changer le nombre de données utilisées pour l'entrainement lorsque vous définissez le modèle. \n",
    "\n",
    "Ici je ne peux pas non plus juste sauvegarder le dictionnaire `textes` dans un fichier, vu qu'il est difficile de sérialiser étant donné que c'est un dictionnaire composé d'objets, qui eux mêmes sont composés de listes, de dictionnaires de listes, entre autres. Le temps qu'il faudrait pour désérialiser et mettre en mémoire est le même que le calculer soi même"
   ]
  },
  {
   "cell_type": "markdown",
   "metadata": {},
   "source": [
    "## Formatation des données, séparation train/test, et métriques supplémentaires"
   ]
  },
  {
   "cell_type": "markdown",
   "metadata": {},
   "source": [
    "Il faut maintenant transformer les données dans un format utilisable par un algorithme de classification. Il faut donc les tranformer dans une array de caractéristiques, de features, et dans une array de labels.\n",
    "\n",
    "Pour ça, je crée une classe que j'appelle `modele`, et qui contient toutes les méthodes nécessaires pour faire cette formatation\n",
    "\n",
    "La classe Modele est initialisée par un corpus de textes (obtenu dans la partie précédante avec `charger_fichiers`) et une liste d'auteurs."
   ]
  },
  {
   "cell_type": "markdown",
   "metadata": {},
   "source": [
    "### Séparation train/test"
   ]
  },
  {
   "cell_type": "markdown",
   "metadata": {},
   "source": [
    "Pour faire une séparation entre un ensemble de textes dédiés à l'entrainement, et un ensemble de textes dédié aux tests, je crée une méthode de classe `_separation_train_test(nb_train)`, qui prend en paramètre le nombre de textes dédiés à l'entrainement, par auteur. C'est important que le nombre de textes d'entrainement soit le même pour chaque auteur, pour qu'il n'y ais pas de biais."
   ]
  },
  {
   "cell_type": "markdown",
   "metadata": {},
   "source": [
    "### Métrique supplémentaire: mots les plus fréquents pour chaque auteur"
   ]
  },
  {
   "cell_type": "markdown",
   "metadata": {},
   "source": [
    "Je veux aussi implémenter une métrique supplémentaire, qui est démontrée très efficace: c'est la Delta Measure de John Burrow. Elle calcule la distance entre le vocabulaire d'un texte et le vocabulaire du corpus entier de l'auteur.\n",
    "\n",
    "J'ai implémenter une version simplifiée: pour chaque auteur, je calcule les 30 mots les plus utilisés. Ensuite, pour chaque texte, je calcule la proportion que représentent les 30 mots les plus utilisés par chaque auteur dans ce texte. Je calcule, pour chaque texte, cette proportion pour chaque auteur.\n",
    "\n",
    "L'idée est que la proportion du vocabulaire le plus utilisé par un auteur dans un texte sera plus haute si ce texte provient de cet auteur.\n",
    "\n",
    "Attention, pour calculer les 30 mots les plus utilisés par chaque auteur dans leurs corpus, je ne dois prendre en compte que les données d'entrainement.\n",
    "\n",
    "J'implémente cette mesure dans une méthode de classe `_frequence_mots_auteurs()`"
   ]
  },
  {
   "cell_type": "markdown",
   "metadata": {},
   "source": [
    "### Formatation des données pour l'entrainement"
   ]
  },
  {
   "cell_type": "markdown",
   "metadata": {},
   "source": [
    "Comme dit précédemment, je dois maintenant assembler les données dans un format utilisable par des algorithmes de classification: je dois donc séparer les features des labels, et additionner la métrique donnant la proportion de vocabulaire le plus utilisé par chaque auteur pour chaque texte.\n",
    "\n",
    "Les métriques composées, soit la ponctuation, doivent être décomposées en valeurs unitaires: je le fait dans la méthode `_matrice_carractéristiques()`\n",
    "\n",
    "Cette méthode donne 4 matrices: les features et labels pour l'entrainement, et celles pour les tests."
   ]
  },
  {
   "cell_type": "markdown",
   "metadata": {},
   "source": [
    "### Classe Modele"
   ]
  },
  {
   "cell_type": "markdown",
   "metadata": {},
   "source": [
    "Je place les méthodes décrites précédament dans la classe suivante:"
   ]
  },
  {
   "cell_type": "code",
   "execution_count": 121,
   "metadata": {},
   "outputs": [],
   "source": [
    "class modele(object):\n",
    "    def __init__(self, textes):\n",
    "        self.textes  = textes\n",
    "        self.auteurs = list(set([self.textes[texte].auteur for texte in self.textes]))\n",
    "        \n",
    "        \n",
    "    # Méthode séparant les textes dans deux groupes, pour entrainer et tester en\n",
    "    # gardant le meme nombre de textes par autheur dans l'entrainement\n",
    "    def _separation_train_test(self, nb_train):\n",
    "        train = {}\n",
    "        test = {}\n",
    "\n",
    "        for auteur in self.auteurs: # Pour chaque auteur, il faut nb_train\n",
    "                                    # textes pour l'entrainement, et le reste\n",
    "                                    # pour le test\n",
    "            ct_auteur = 0\n",
    "\n",
    "            for texte in self.textes:\n",
    "                # si nb_textes_auteur < nb_train: auteur -> train\n",
    "                if self.textes[texte].auteur == auteur and ct_auteur < nb_train:\n",
    "                    train[self.textes[texte].fichier] = self.textes[texte]\n",
    "                    ct_auteur += 1\n",
    "                # sinon: auteur -> test\n",
    "                elif self.textes[texte].auteur == auteur:\n",
    "                    test[self.textes[texte].fichier] = self.textes[texte]\n",
    "        \n",
    "        self.train = train\n",
    "        self.test  = test\n",
    "        \n",
    "        \n",
    "        \n",
    "    # Méthode calculant les mots les plus fréquents d'un corpus de textes\n",
    "    # pour un auteur donné. Ne prend que en compte les auteurs dans train\n",
    "    def _frequence_mots_auteurs(self):\n",
    "        frequence_mots_auteurs = {}\n",
    "\n",
    "        for auteur in self.auteurs:\n",
    "            freq_auteur = nltk.FreqDist()\n",
    "\n",
    "            for texte in self.train:\n",
    "                if textes[texte].auteur == auteur:\n",
    "                    freq_auteur += self.train[texte].freq_occurences\n",
    "\n",
    "            frequence_mots_auteurs[auteur] = freq_auteur.most_common(30)\n",
    "\n",
    "        self.frequence_mots_auteurs = frequence_mots_auteurs\n",
    "        \n",
    "    \n",
    "    \n",
    "    # Méthode transformant les données dans un format utilisable par les classificateurs,\n",
    "    # soit une matrice de caractéristiques. Pour train et test.\n",
    "    def _matrice_caracteristiques(self):\n",
    "        for donnees in [self.train, self.test]:\n",
    "            features = []\n",
    "            labels   = []\n",
    "\n",
    "            for texte in donnees:\n",
    "                features_texte = []\n",
    "\n",
    "                len_texte = len(donnees[texte].mots_sans_punct_chif_stop)\n",
    "\n",
    "                # Caractéristiques directement récupérables dans les attributs du texte\n",
    "                features_texte.append(donnees[texte].len_moy_mots[0])\n",
    "                features_texte.append(donnees[texte].len_moy_mots[1])\n",
    "                features_texte.append(donnees[texte].len_moy_phrase_caracteres)\n",
    "                features_texte.append(donnees[texte].len_moy_phrase_mots)\n",
    "                features_texte.append(donnees[texte].nb_moy_syllabes_mots)\n",
    "                features_texte.append(donnees[texte].hapax_legomenon / len_texte)\n",
    "                features_texte.append(donnees[texte].proportion_stop)\n",
    "\n",
    "                # Proportion ponctuation\n",
    "                for ponct in string.punctuation:\n",
    "                    features_texte.append(donnees[texte].ponctuation[ponct] / len_texte)\n",
    "\n",
    "                # Proportion des mots les plus utilises par chaque auteur dans le texte courant\n",
    "                for auteur in self.auteurs:\n",
    "                    ct_mots_freq_auteur = 0\n",
    "                    for mot in self.frequence_mots_auteurs[auteur]:\n",
    "                        ct_mots_freq_auteur += donnees[texte].mots_sans_punct_chif_stop.count(mot)\n",
    "                    freq = ct_mots_freq_auteur / len_texte\n",
    "\n",
    "                    features_texte.append(freq)\n",
    "\n",
    "                # Donnée courante\n",
    "                features.append(features_texte)\n",
    "                labels.append(donnees[texte].auteur)\n",
    "                \n",
    "            if donnees == self.train:\n",
    "                self.matrice_features_train = np.array(features)\n",
    "                self.matrice_labels_train   = np.array(labels)\n",
    "            elif donnees == self.test:\n",
    "                self.matrice_features_test  = np.array(features)\n",
    "                self.matrice_labels_test    = np.array(labels)"
   ]
  },
  {
   "cell_type": "markdown",
   "metadata": {},
   "source": [
    "### Création du Modele\n",
    "\n",
    "On va maintenant créer un modèle avec les données obtenues dans la première partie"
   ]
  },
  {
   "cell_type": "code",
   "execution_count": 117,
   "metadata": {},
   "outputs": [],
   "source": [
    "modele1 = modele(textes)"
   ]
  },
  {
   "cell_type": "markdown",
   "metadata": {},
   "source": [
    "On doit ensuite faire la séparation entre données d'entrainement et de test"
   ]
  },
  {
   "cell_type": "code",
   "execution_count": 118,
   "metadata": {},
   "outputs": [],
   "source": [
    "modele1._separation_train_test(12)"
   ]
  },
  {
   "cell_type": "markdown",
   "metadata": {},
   "source": [
    "On calcule les mots les plus utiliséss par chaque auteur dans leur corpus (à partir des données d'entrainement)"
   ]
  },
  {
   "cell_type": "code",
   "execution_count": 119,
   "metadata": {},
   "outputs": [],
   "source": [
    "modele1._frequence_mots_auteurs()"
   ]
  },
  {
   "cell_type": "markdown",
   "metadata": {},
   "source": [
    "On construit ensuite la matrice des caractéristiques, qui comporte les données dans le bon format et avec la métrique supplémentaire."
   ]
  },
  {
   "cell_type": "code",
   "execution_count": 120,
   "metadata": {},
   "outputs": [],
   "source": [
    "modele1._matrice_caracteristiques()"
   ]
  },
  {
   "cell_type": "markdown",
   "metadata": {},
   "source": [
    "Note: il n'est pas nécessaire de normaliser la matrice vu que toutes les données sont déjà des proportions."
   ]
  },
  {
   "cell_type": "markdown",
   "metadata": {},
   "source": [
    "## Entrainement des modèles"
   ]
  },
  {
   "cell_type": "markdown",
   "metadata": {},
   "source": [
    "On va maintenant tester deux algorithmes de classification: K-Nearest-Neighbours et Random Forrest Tree."
   ]
  },
  {
   "cell_type": "markdown",
   "metadata": {},
   "source": [
    "On crée également une fonction qui nous permettra de visualiser des matrices de confusion:"
   ]
  },
  {
   "cell_type": "code",
   "execution_count": 65,
   "metadata": {},
   "outputs": [],
   "source": [
    "def matrice_de_confusion(y,y_pred,auteurs):\n",
    "    cm = confusion_matrix(y,y_pred,labels = list(set(y)))\n",
    "    \n",
    "    df_cm = pd.DataFrame(cm, \n",
    "                         index = [i for i in auteurs],\n",
    "                         columns = [i for i in auteurs])\n",
    "    \n",
    "    plt.figure(figsize = (10,7))\n",
    "    \n",
    "    return sn.heatmap(df_cm, annot=True)"
   ]
  },
  {
   "cell_type": "markdown",
   "metadata": {},
   "source": [
    "### K-Nearest-Neighbours"
   ]
  },
  {
   "cell_type": "markdown",
   "metadata": {},
   "source": [
    "Après avoir tester plusieurs valeurs de K, 3 semble obtenir le meilleur résultat"
   ]
  },
  {
   "cell_type": "code",
   "execution_count": 59,
   "metadata": {},
   "outputs": [],
   "source": [
    "knn = KNeighborsClassifier(n_neighbors = 3)"
   ]
  },
  {
   "cell_type": "code",
   "execution_count": 61,
   "metadata": {},
   "outputs": [
    {
     "data": {
      "text/plain": [
       "KNeighborsClassifier(algorithm='auto', leaf_size=30, metric='minkowski',\n",
       "                     metric_params=None, n_jobs=None, n_neighbors=3, p=2,\n",
       "                     weights='uniform')"
      ]
     },
     "execution_count": 61,
     "metadata": {},
     "output_type": "execute_result"
    }
   ],
   "source": [
    "knn.fit(modele1.matrice_features_train,modele1.matrice_labels_train)"
   ]
  },
  {
   "cell_type": "code",
   "execution_count": 62,
   "metadata": {},
   "outputs": [],
   "source": [
    "y_pred_knn = knn.predict(modele1.matrice_features_test)"
   ]
  },
  {
   "cell_type": "code",
   "execution_count": 66,
   "metadata": {},
   "outputs": [
    {
     "data": {
      "text/plain": [
       "<matplotlib.axes._subplots.AxesSubplot at 0x7ff42fa10b10>"
      ]
     },
     "execution_count": 66,
     "metadata": {},
     "output_type": "execute_result"
    },
    {
     "data": {
      "image/png": "[encoded data removed]",
      "text/plain": [
       "<Figure size 720x504 with 2 Axes>"
      ]
     },
     "metadata": {
      "needs_background": "light"
     },
     "output_type": "display_data"
    }
   ],
   "source": [
    "matrice_de_confusion(modele1.matrice_labels_test, y_pred_knn, modele1.auteurs)"
   ]
  },
  {
   "cell_type": "markdown",
   "metadata": {},
   "source": [
    "Les résultats sont peu satisfaisants: sur 30 textes, seuls $2 + 3 + 1 + 3 + 3 = 12$ textes sont identifiés correctement. K-NN ne semble donc pas un bon algorithme pour mes données (certainement car la dimention d'attributs est très grande)"
   ]
  },
  {
   "cell_type": "markdown",
   "metadata": {},
   "source": [
    "On va donc essayer l'algorithme Random Forrest Tree"
   ]
  },
  {
   "cell_type": "markdown",
   "metadata": {},
   "source": [
    "### Random Tree Forrest"
   ]
  },
  {
   "cell_type": "markdown",
   "metadata": {},
   "source": [
    "Random Forrest Tree n'est pas aussi simple à implémenter, vu qu'il a besoin de labels numériques: les prédictions qu'il va donner ne seront pas discrètes, il faudra donc arrondir chacune des prévisions à l'entier le plus proche, et on peut obtenir la prédiction d'auteur"
   ]
  },
  {
   "cell_type": "markdown",
   "metadata": {},
   "source": [
    "#### Reformatation des labels pour Random Forrest Tree"
   ]
  },
  {
   "cell_type": "markdown",
   "metadata": {},
   "source": [
    "On construit une fonction qui transforme le nom des auteurs en des entiers ordonnés. Ces entiers dépendent du nombre d'auteurs, mais pour 5 auteurs (notre cas), on a des entiers de 0 à 4."
   ]
  },
  {
   "cell_type": "code",
   "execution_count": 67,
   "metadata": {
    "collapsed": false,
    "jupyter": {
     "outputs_hidden": false
    }
   },
   "outputs": [],
   "source": [
    "def labels_random_forrest(labels, auteurs):\n",
    "    label_random_forrest = []\n",
    "    for label in labels:\n",
    "        for auteur in auteurs:\n",
    "            if label == auteur:\n",
    "                label_random_forrest.append(auteurs.index(auteur))\n",
    "    return np.array(label_random_forrest)"
   ]
  },
  {
   "cell_type": "code",
   "execution_count": 69,
   "metadata": {},
   "outputs": [
    {
     "data": {
      "text/plain": [
       "[(0, 'emerson'),\n",
       " (1, 'hawthorne'),\n",
       " (2, 'dickens'),\n",
       " (3, 'burroughs'),\n",
       " (4, 'aristotle')]"
      ]
     },
     "execution_count": 69,
     "metadata": {},
     "output_type": "execute_result"
    }
   ],
   "source": [
    "[x for x in enumerate(modele1.auteurs)]"
   ]
  },
  {
   "cell_type": "markdown",
   "metadata": {},
   "source": [
    "Avec cette fonctrion on peut donc transformer les labels d'entrainement et de test"
   ]
  },
  {
   "cell_type": "code",
   "execution_count": 71,
   "metadata": {
    "collapsed": false,
    "jupyter": {
     "outputs_hidden": false
    }
   },
   "outputs": [],
   "source": [
    "rf_train_labels = labels_random_forrest(modele1.matrice_labels_train, modele1.auteurs)"
   ]
  },
  {
   "cell_type": "code",
   "execution_count": 72,
   "metadata": {},
   "outputs": [],
   "source": [
    "rf_test_labels = labels_random_forrest(modele1.matrice_labels_test, modele1.auteurs)"
   ]
  },
  {
   "cell_type": "markdown",
   "metadata": {},
   "source": [
    "#### Random Forrest"
   ]
  },
  {
   "cell_type": "markdown",
   "metadata": {},
   "source": [
    "On peut maintenant construire le classificateur Random Forrest. On crée une fonction qui simplifie cette tâche:"
   ]
  },
  {
   "cell_type": "code",
   "execution_count": 73,
   "metadata": {
    "collapsed": false,
    "jupyter": {
     "outputs_hidden": false
    }
   },
   "outputs": [],
   "source": [
    "def random_forrest(estimateur, features, labels):\n",
    "    regressor = RandomForestRegressor(n_estimators=estimateur, random_state=0)\n",
    "    regressor.fit(features, labels)\n",
    "    return regressor"
   ]
  },
  {
   "cell_type": "markdown",
   "metadata": {},
   "source": [
    "Le choix du nombre d'estimateurs est un hyperparamètre à choisir. Après avoir testé plusieurs, 1500 semble obtenir la meilleure sollution"
   ]
  },
  {
   "cell_type": "code",
   "execution_count": 83,
   "metadata": {
    "collapsed": false,
    "jupyter": {
     "outputs_hidden": false
    }
   },
   "outputs": [],
   "source": [
    "regressor = random_forrest(1500, modele1.matrice_features_train, rf_train_labels)"
   ]
  },
  {
   "cell_type": "markdown",
   "metadata": {},
   "source": [
    "Comme mentionné précédemment, il faut maintenant arrondir les prédictions de Random Forrest Tree. On utilise la fonction suivante:"
   ]
  },
  {
   "cell_type": "code",
   "execution_count": 84,
   "metadata": {},
   "outputs": [],
   "source": [
    "def rf_predict(regressor, test_features):\n",
    "    y_prob = regressor.predict(test_features)\n",
    "    \n",
    "    y_pred = []\n",
    "    for prob in y_prob:\n",
    "        y_pred.append(round(prob))\n",
    "        \n",
    "    return y_pred"
   ]
  },
  {
   "cell_type": "code",
   "execution_count": 85,
   "metadata": {},
   "outputs": [],
   "source": [
    "y_pred_rf = rf_predict(regressor, modele1.matrice_features_test)"
   ]
  },
  {
   "cell_type": "markdown",
   "metadata": {},
   "source": [
    "Pour pouvoir visualiser la performance de la prédiction, on construit la matrice de confusion"
   ]
  },
  {
   "cell_type": "code",
   "execution_count": 122,
   "metadata": {},
   "outputs": [
    {
     "data": {
      "text/plain": [
       "<matplotlib.axes._subplots.AxesSubplot at 0x7ff3f836f310>"
      ]
     },
     "execution_count": 122,
     "metadata": {},
     "output_type": "execute_result"
    },
    {
     "data": {
      "image/png": "[encoded data removed]",
      "text/plain": [
       "<Figure size 720x504 with 2 Axes>"
      ]
     },
     "metadata": {
      "needs_background": "light"
     },
     "output_type": "display_data"
    }
   ],
   "source": [
    "matrice_de_confusion(rf_test_labels, y_pred_rf, modele1.auteurs)"
   ]
  },
  {
   "cell_type": "markdown",
   "metadata": {},
   "source": [
    "On voit que sur 30 textes testés, il y a $1 + 1 + 1 + 1 + 2 = 6$ textes mal classifiés. Cet algorihtme a une précision de 80%, ce qui est un résultat plutôt très satisfaisant. (beaucoup mieux que K-NN).\n",
    "\n",
    "Avec uniquement des métriques de style, récupérables sur n'importe quel texte, notre algorithme a réussi à identifier avec une précision de 80% les auteurs des textes. Cela est un bon résultat, si on prend en compte que chaque auteur peut ne pas écrire tout le temps avec le même style. \n",
    "\n",
    "J'ai choisit les données de façon plus ou moins aléatoire, mais pour avoir de meilleurs résultats, il faudrait trouver une base de données plus consistente, qui soit représentative des différents styles d'un seul auteur. Mais c'est déjà un pas :)"
   ]
  }
 ],
 "metadata": {
  "kernelspec": {
   "display_name": "Python 3",
   "language": "python",
   "name": "python3"
  },
  "language_info": {
   "codemirror_mode": {
    "name": "ipython",
    "version": 3
   },
   "file_extension": ".py",
   "mimetype": "text/x-python",
   "name": "python",
   "nbconvert_exporter": "python",
   "pygments_lexer": "ipython3",
   "version": "3.7.6"
  },
  "name": "final.ipynb"
 },
 "nbformat": 4,
 "nbformat_minor": 4
}
